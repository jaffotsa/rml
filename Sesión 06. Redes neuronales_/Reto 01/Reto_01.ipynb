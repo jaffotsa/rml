{
 "cells": [
  {
   "cell_type": "markdown",
   "metadata": {
    "id": "Rz6sX2-hMZdZ"
   },
   "source": [
    "# Reto 01\n",
    "## Jaffet León Chávez\n",
    "\n",
    "A continuación vamos a generar una neurona básica matemática. Este reto requiere de usar su lógica de programador para crear una red neuronal artificial 'a mano'. El reto consta de lo siguiente:\n",
    "\n",
    "- Usted debe generar una neurona que le permita generar el valor y de la siguiente función\n",
    "\n",
    "$y = ( (a_1x_1 + a_2x_2+ a_3x_3) + \\cdots + t ) * (   c_1a_1 +  c_2a_2 +  c_3a_3 + \\cdots + g$) / $\\pi$\n",
    "\n",
    "\n",
    "\n"
   ]
  },
  {
   "cell_type": "code",
   "execution_count": 14,
   "metadata": {
    "id": "CDqHXM7zPZ-d"
   },
   "outputs": [],
   "source": [
    "# Importemos las librerías necesarias\n",
    "\n",
    "import numpy as np\n",
    "import math"
   ]
  },
  {
   "cell_type": "markdown",
   "metadata": {
    "id": "Y-asmuqnWFLl"
   },
   "source": [
    "# Paso 01\n",
    "\n",
    "Con base en las siguientes variables, escriba una función base que se llame 'calculo' como preambulo para generar una 'neurona' artificial que compute para usted  la variable esperada 'y', con base en las siguientes variables:"
   ]
  },
  {
   "cell_type": "code",
   "execution_count": 77,
   "metadata": {
    "id": "1HaVLVi4MWyW"
   },
   "outputs": [],
   "source": [
    "def calculo(a, x, t, c, g):\n",
    "    parte1 = np.dot(a,x) + t\n",
    "    parte2 = np.dot(c, a) + g / math.pi\n",
    "    resultado = parte1 * parte2\n",
    "    print(resultado)"
   ]
  },
  {
   "cell_type": "code",
   "execution_count": 78,
   "metadata": {
    "colab": {
     "base_uri": "https://localhost:8080/"
    },
    "id": "Z3_QxquoWSNZ",
    "outputId": "6c1e8c04-6b3a-4ef8-bab3-98ae9c6587d1"
   },
   "outputs": [
    {
     "name": "stdout",
     "output_type": "stream",
     "text": [
      "80481215332.77368\n"
     ]
    }
   ],
   "source": [
    "a = [10,25,50,75,100,125,150,175,200]\n",
    "x = [100,250,500,750,1000,1250,1500,1750,2000]\n",
    "t = 80\n",
    "g = 60\n",
    "c = [20,85,14,84,45,85,10,92,105]\n",
    "z = calculo(a,x,t,c,g)"
   ]
  },
  {
   "cell_type": "markdown",
   "metadata": {
    "id": "vCj2HoOQXaHP"
   },
   "source": [
    "#Paso 02\n",
    "\n",
    "Genere una función básica de activación que se llame 'activacion' que solo verifique el valor númerico del resultado o z con lo que arroja realmente 'calculo'"
   ]
  },
  {
   "cell_type": "code",
   "execution_count": 82,
   "metadata": {
    "id": "sBpCHSB6X8GF"
   },
   "outputs": [],
   "source": [
    "def activacion(z):\n",
    "  if z == 80481215332.77368:\n",
    "    return z"
   ]
  },
  {
   "cell_type": "code",
   "execution_count": 83,
   "metadata": {
    "id": "tT8ippY3aXj9"
   },
   "outputs": [],
   "source": [
    "activacion(z)"
   ]
  },
  {
   "cell_type": "markdown",
   "metadata": {
    "id": "1qN3vmieb-R_"
   },
   "source": [
    "# Paso 03\n",
    "\n",
    "Ahora usted debe generar una función llamada 'neurona' que conjunte las funciones 'calculo' y 'activacion', que de un return o print del valor esperado.\n",
    "- Debe volver a declarar a,x,t,g y c. Asigne valores nuevos a esas variables\n",
    "- La prueba de fuego es que de un return del resultado esperado"
   ]
  },
  {
   "cell_type": "code",
   "execution_count": 86,
   "metadata": {
    "id": "8dAfV217b_VO"
   },
   "outputs": [],
   "source": [
    "def neurona(a,x,t,c,g):\n",
    "    z = calculo(a,x,t,c,g)\n",
    "    y = activacion(z)\n",
    "    print(y)"
   ]
  },
  {
   "cell_type": "code",
   "execution_count": 87,
   "metadata": {
    "colab": {
     "base_uri": "https://localhost:8080/"
    },
    "id": "MKMRPbUFcYLF",
    "outputId": "7d2336a3-0435-4d78-efda-d2fb6e2f7e1c"
   },
   "outputs": [
    {
     "name": "stdout",
     "output_type": "stream",
     "text": [
      "80481215332.77368\n",
      "None\n"
     ]
    }
   ],
   "source": [
    "a = [10,25,50,75,100,125,150,175,200]\n",
    "x = [100,250,500,750,1000,1250,1500,1750,2000]\n",
    "t = 80\n",
    "g = 60\n",
    "c = [20,85,14,84,45,85,10,92,105]\n",
    "\n",
    "neurona(a,x,t,c,g)"
   ]
  }
 ],
 "metadata": {
  "colab": {
   "collapsed_sections": [],
   "name": "Reto 01.ipynb",
   "provenance": []
  },
  "kernelspec": {
   "display_name": "Python 3",
   "language": "python",
   "name": "python3"
  },
  "language_info": {
   "codemirror_mode": {
    "name": "ipython",
    "version": 3
   },
   "file_extension": ".py",
   "mimetype": "text/x-python",
   "name": "python",
   "nbconvert_exporter": "python",
   "pygments_lexer": "ipython3",
   "version": "3.7.4"
  }
 },
 "nbformat": 4,
 "nbformat_minor": 1
}
