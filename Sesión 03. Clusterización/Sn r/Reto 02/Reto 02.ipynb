{
 "cells": [
  {
   "cell_type": "markdown",
   "metadata": {},
   "source": [
    "# Reto 02\n",
    "A continuación vas a desarrollar por tu propia cuenta una clusterización pero ahora con un dataset con el doble de dimensiones. Contarás con el apoyo de los TA y el Experto para que puedas desarrollar el reto que a continuación vas a resolver. Lee a detalle cada una de las instrucciones contenidas en cada paso. Éxito."
   ]
  },
  {
   "cell_type": "markdown",
   "metadata": {},
   "source": [
    "# Paso 1: Genera un Análisis Exploratorio básico de las variables con las que cuentas, tratandos de responder las siguientes preguntas\n",
    "- Cuantas variables tienes y de que tipo son\n",
    "- Como se distirbuyen tus variables\n",
    "- Cuantas observaciones tienes"
   ]
  },
  {
   "cell_type": "code",
   "execution_count": null,
   "metadata": {},
   "outputs": [],
   "source": []
  },
  {
   "cell_type": "markdown",
   "metadata": {},
   "source": [
    "# Paso 2: Estandarice y genere una nueva escala\n",
    "¿Recuerda lo comentado respecto a que manejar distintas escalas puede estropear nuestra clusterización? Aunque tengamos menos variables, sucede lo mismo. Genere una nueva escala y estandarice los datos."
   ]
  },
  {
   "cell_type": "code",
   "execution_count": null,
   "metadata": {},
   "outputs": [],
   "source": []
  },
  {
   "cell_type": "markdown",
   "metadata": {},
   "source": [
    "# Paso 3: Ahora reduzca de 6 a solo 2 dimensiones\n",
    "importe PCA de sklearn.decomposition y genere 2 nuevas dimensiones que \"resuman\" a las 6 originales"
   ]
  },
  {
   "cell_type": "code",
   "execution_count": null,
   "metadata": {},
   "outputs": [],
   "source": []
  },
  {
   "cell_type": "markdown",
   "metadata": {},
   "source": [
    "# Paso 4: Grafique las dos dimensiones que acaba de generar"
   ]
  },
  {
   "cell_type": "code",
   "execution_count": null,
   "metadata": {},
   "outputs": [],
   "source": []
  },
  {
   "cell_type": "markdown",
   "metadata": {},
   "source": [
    "# Paso 5: Decida cuantos clusters usted necesita\n",
    "Ahora, usted deberá emplear uno de los métodos que el Experto le ha enseñado:\n",
    "- Método del Codo\n",
    "- Método de la Silueta\n",
    "- Método de la inercia\n",
    "\n",
    "Con base en él, escriba el código pertinente y argumente su decisión de número de clusters\n",
    "\n",
    "- CONSEJO: Le será confuso elegir con un solo método. Le recomiendo ampliamente usar dos."
   ]
  },
  {
   "cell_type": "code",
   "execution_count": null,
   "metadata": {},
   "outputs": [],
   "source": []
  },
  {
   "cell_type": "markdown",
   "metadata": {},
   "source": [
    "# Paso 6: Gráfique el método que empleó\n",
    "Junto con Matplotlib y Seaborn (si es el caso), grafique el método de decisión de Clusters que usted usó en el paso anterior"
   ]
  },
  {
   "cell_type": "code",
   "execution_count": null,
   "metadata": {},
   "outputs": [],
   "source": []
  },
  {
   "cell_type": "markdown",
   "metadata": {},
   "source": [
    "# Paso 7: Defina su clusterización\n",
    "Ahora, usted deberá emplear el número de clusters que decidió en el paso anterior con base en el ejemplo desarrollado por el experto. \n",
    "- Recuerde definir una nueva variable donde almacenará KMeans()\n",
    "- Defina una segunda variable donde almacene sus centrodes, derivado de la primera (.cluster_centers_)"
   ]
  },
  {
   "cell_type": "code",
   "execution_count": null,
   "metadata": {},
   "outputs": [],
   "source": []
  },
  {
   "cell_type": "markdown",
   "metadata": {},
   "source": [
    "# Paso 8: Genere un breve EDA de sus variables clusterizadas\n",
    "Puede generar histogramas o distintas visualizaciones de sus variabels clusterizadas. Paso libre"
   ]
  },
  {
   "cell_type": "code",
   "execution_count": null,
   "metadata": {},
   "outputs": [],
   "source": []
  },
  {
   "cell_type": "markdown",
   "metadata": {},
   "source": [
    "# Paso 9: Visualice los clusters en el plano cartesiano\n",
    "Genere una visualización de los clusters que usted decidió emplear dada la reducción de dimensiones y los clusters que generó"
   ]
  },
  {
   "cell_type": "code",
   "execution_count": null,
   "metadata": {},
   "outputs": [],
   "source": []
  }
 ],
 "metadata": {
  "kernelspec": {
   "display_name": "Python 3",
   "language": "python",
   "name": "python3"
  },
  "language_info": {
   "codemirror_mode": {
    "name": "ipython",
    "version": 3
   },
   "file_extension": ".py",
   "mimetype": "text/x-python",
   "name": "python",
   "nbconvert_exporter": "python",
   "pygments_lexer": "ipython3",
   "version": "3.7.4"
  }
 },
 "nbformat": 4,
 "nbformat_minor": 4
}
